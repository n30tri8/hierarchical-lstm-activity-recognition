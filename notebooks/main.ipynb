{
 "cells": [
  {
   "cell_type": "code",
   "outputs": [],
   "source": [
    "import os\n",
    "from sklearn.model_selection import train_test_split\n",
    "import tensorflow as tf\n",
    "import numpy as np\n",
    "from PIL import Image\n",
    "import matplotlib.pyplot as plt\n",
    "\n",
    "\n",
    "# function for visualizing data\n",
    "def simple_plot_image(image, title):\n",
    "    plt.figure(figsize=(5, 5))\n",
    "    plt.imshow(image)\n",
    "    plt.title(title)"
   ],
   "metadata": {
    "collapsed": false,
    "ExecuteTime": {
     "end_time": "2024-02-05T00:07:33.000891300Z",
     "start_time": "2024-02-05T00:07:28.756629900Z"
    }
   },
   "id": "1b8f6f3b2e7ee18d",
   "execution_count": 1
  },
  {
   "cell_type": "code",
   "outputs": [],
   "source": [
    "dataset_path = '../data/videos'\n",
    "video_idxes = os.listdir(dataset_path)\n",
    "video_idxes.remove('Info.txt')\n",
    "video_idxes.remove('Info.txt~')\n",
    "\n",
    "# using videos-level train-test split\n",
    "train_video_idxes, test_video_idxes = train_test_split(video_idxes, train_size=0.66)\n",
    "\n",
    "TRAIN_TIME_STEPS = 9\n",
    "TRAIN_TIME_STEPS_BEFORE_FRAME = TRAIN_TIME_STEPS // 2\n",
    "TRAIN_TIME_STEPS_AFTER_FRAME = TRAIN_TIME_STEPS // 2"
   ],
   "metadata": {
    "collapsed": false,
    "ExecuteTime": {
     "end_time": "2024-02-05T00:07:36.467197100Z",
     "start_time": "2024-02-05T00:07:36.456657800Z"
    }
   },
   "id": "4be69e9e9c29a115",
   "execution_count": 2
  },
  {
   "cell_type": "code",
   "outputs": [],
   "source": [
    "# will keep all train data in memory bc\n",
    "Y_train_group_LSTM = []\n",
    "X_train_individual_LSTM_unprocessed = []\n",
    "Y_train_individual_LSTM = []\n",
    "\n",
    "test_counter=1\n",
    "for video_idx in train_video_idxes:\n",
    "    # todo remove this\n",
    "    if test_counter==0:\n",
    "        break\n",
    "    test_counter-=1\n",
    "    # end remove section\n",
    "    \n",
    "    annotations = open(f\"{dataset_path}/{video_idx}/annotations.txt\", 'r').readlines()\n",
    "    for frame_annotation in annotations:\n",
    "        main_frame_file_name, group_activity_name, *player_annotations = frame_annotation.strip().split(' ')\n",
    "        Y_train_group_LSTM.append(group_activity_name)\n",
    "\n",
    "        while len(player_annotations) != 0:\n",
    "            x_annotation, y_annotation, width_annotation, height_annotation, individual_activity_name, *player_annotations = player_annotations\n",
    "            x_annotation = int(x_annotation)\n",
    "            y_annotation = int(y_annotation)\n",
    "            width_annotation = int(width_annotation)\n",
    "            height_annotation = int(height_annotation)\n",
    "\n",
    "            Y_train_individual_LSTM.append(individual_activity_name)\n",
    "\n",
    "            individual_tracklet = []\n",
    "            main_frame_id, _ = main_frame_file_name.split('.')\n",
    "            main_frame_id = int(main_frame_id)\n",
    "            training_frames_path = [f\"{dataset_path}/{video_idx}/{main_frame_id}/{i}.jpg\" for i in\n",
    "                                    range(main_frame_id - TRAIN_TIME_STEPS_BEFORE_FRAME,\n",
    "                                          main_frame_id + TRAIN_TIME_STEPS_AFTER_FRAME + 1)]\n",
    "            for training_frame_path in training_frames_path:\n",
    "                frame = np.asarray(Image.open(training_frame_path))\n",
    "                cropped_frame = tf.image.crop_to_bounding_box(frame, y_annotation, x_annotation, height_annotation,\n",
    "                                                              width_annotation)\n",
    "\n",
    "                individual_tracklet.append(cropped_frame)\n",
    "\n",
    "            X_train_individual_LSTM_unprocessed.append(individual_tracklet)"
   ],
   "metadata": {
    "collapsed": false,
    "ExecuteTime": {
     "end_time": "2024-02-05T00:12:48.114435200Z",
     "start_time": "2024-02-05T00:08:37.477000700Z"
    }
   },
   "id": "2f60501517d1895d",
   "execution_count": 4
  },
  {
   "cell_type": "markdown",
   "source": [
    "Getting some statistics of data:\n",
    "\n",
    "Note: annotation error in some files, for example video index: 44, frame index: 40750.jpg\n",
    "whitespace at the end of line, will use frame_annotation.strip().split(' ')"
   ],
   "metadata": {
    "collapsed": false
   },
   "id": "34c50b8ae90fce8d"
  },
  {
   "cell_type": "code",
   "outputs": [
    {
     "name": "stdout",
     "output_type": "stream",
     "text": [
      "max annotated width: 221; max annotated height: 323\n",
      "30th percentile of annotated widths: 46.0\n",
      "distinct group activity annotations: {'r_winpoint', 'l_set', 'r_spike', 'r_set', 'l-pass', 'l_winpoint', 'r-pass', 'l-spike'}\n",
      "distinct individual activity annotations: {'falling', 'moving', 'blocking', 'waiting', 'digging', 'spiking', 'setting', 'standing', 'jumping'}\n"
     ]
    }
   ],
   "source": [
    "all_width_annotations = []\n",
    "all_height_annotations = []\n",
    "all_group_activity_annotations = set()\n",
    "all_individual_activity_annotations = set()\n",
    "for video_idx in video_idxes:\n",
    "    annotations = open(f\"{dataset_path}/{video_idx}/annotations.txt\", 'r').readlines()\n",
    "    for frame_annotation in annotations:\n",
    "        main_frame_file_name, group_activity_name, *player_annotations = frame_annotation.strip().split(' ')\n",
    "        all_group_activity_annotations.add(group_activity_name)\n",
    "\n",
    "        while len(player_annotations) != 0:\n",
    "            _, _, width_annotation, height_annotation, individual_activity_name, *player_annotations = player_annotations\n",
    "            all_individual_activity_annotations.add(individual_activity_name)\n",
    "            width_annotation = int(width_annotation)\n",
    "            height_annotation = int(height_annotation)\n",
    "            all_width_annotations.append(width_annotation)\n",
    "            all_height_annotations.append(height_annotation)\n",
    "\n",
    "print(f\"max annotated width: {max(all_width_annotations)}; max annotated height: {max(all_height_annotations)}\")\n",
    "print(f\"30th percentile of annotated widths: {np.percentile(all_width_annotations, 30)}\")\n",
    "print(f\"distinct group activity annotations: {all_group_activity_annotations}\")\n",
    "print(f\"distinct individual activity annotations: {all_individual_activity_annotations}\")"
   ],
   "metadata": {
    "collapsed": false,
    "ExecuteTime": {
     "end_time": "2024-02-05T00:21:03.608990700Z",
     "start_time": "2024-02-05T00:21:03.522569800Z"
    }
   },
   "id": "daf49a5aba354dba",
   "execution_count": 5
  },
  {
   "cell_type": "markdown",
   "source": [
    "## Decision on resizing images\n",
    "\n",
    "It is a good choice to downsize images to the smallest image. The xception models needs inputs of shape at least (71*71*3).\n",
    "\n",
    "<sub><sup>TODO: research and implement better options, links:\n",
    "https://blog.roboflow.com/you-might-be-resizing-your-images-incorrectly/\n",
    "https://keras.io/examples/vision/learnable_resizer/\n",
    "https://zuru.tech/blog/the-dangers-behind-image-resizing\n",
    "https://medium.com/neuronio/how-to-deal-with-image-resizing-in-deep-learning-e5177fad7d89</sup></sub>"
   ],
   "metadata": {
    "collapsed": false
   },
   "id": "9926373a1f309d8c"
  },
  {
   "cell_type": "code",
   "outputs": [],
   "source": [
    "XCEPTION_MIN_ACCEPTABLE_DIMENSION = 71\n",
    "XCEPTION_resize_width = max(XCEPTION_MIN_ACCEPTABLE_DIMENSION, min(all_width_annotations))\n",
    "XCEPTION_resize_height = max(XCEPTION_MIN_ACCEPTABLE_DIMENSION, min(all_height_annotations))"
   ],
   "metadata": {
    "collapsed": false,
    "ExecuteTime": {
     "end_time": "2024-02-05T00:21:15.153556600Z",
     "start_time": "2024-02-05T00:21:15.129401100Z"
    }
   },
   "id": "7ef76fa33c512285",
   "execution_count": 6
  },
  {
   "cell_type": "markdown",
   "source": [
    "## Decision on encoding categorical labels\n",
    "\n",
    "I use one-hot encoding, since there is no ordinal arrangement in specified activities"
   ],
   "metadata": {
    "collapsed": false
   },
   "id": "f079a0c20d0aa13"
  },
  {
   "cell_type": "code",
   "outputs": [],
   "source": [
    "group_activity_map = tf.keras.layers.StringLookup(vocabulary=list(all_group_activity_annotations), output_mode='one_hot')\n",
    "group_activity_inverse_map = tf.keras.layers.StringLookup(vocabulary=list(all_group_activity_annotations), invert=True)\n",
    "individual_activity_map = tf.keras.layers.StringLookup(vocabulary=list(all_individual_activity_annotations), output_mode='one_hot')\n",
    "individual_activity_inverse_map = tf.keras.layers.StringLookup(vocabulary=list(all_individual_activity_annotations), invert=True)\n",
    "\n",
    "Y_train_individual_LSTM = individual_activity_map(Y_train_individual_LSTM)\n",
    "Y_train_group_LSTM = group_activity_map(Y_train_group_LSTM)"
   ],
   "metadata": {
    "collapsed": false,
    "ExecuteTime": {
     "end_time": "2024-02-05T00:21:30.941610900Z",
     "start_time": "2024-02-05T00:21:30.789581800Z"
    }
   },
   "id": "b7b3c60ac3266629",
   "execution_count": 7
  },
  {
   "cell_type": "markdown",
   "source": [
    "Preprocessing of images done by layers that are included in the model (i.e. the xception model), in an end-to-end fashion\n",
    "Advantage: it will benefit from GPU acceleration.\n",
    "https://www.tensorflow.org/guide/keras/preprocessing_layers#preprocessing_data_before_the_model_or_inside_the_model"
   ],
   "metadata": {
    "collapsed": false
   },
   "id": "f5be7e01fa2d3ec"
  },
  {
   "cell_type": "code",
   "outputs": [
    {
     "data": {
      "image/png": "[encoded data removed]",
      "text/plain": "<IPython.core.display.Image object>"
     },
     "execution_count": 14,
     "metadata": {},
     "output_type": "execute_result"
    }
   ],
   "source": [
    "frame_inputs = tf.keras.Input(shape=(71, 71, 3))\n",
    "# frame_inputs = tf.keras.Input(shape=(None, None, 3))\n",
    "# preprocessed_inputs = tf.keras.layers.Resizing(XCEPTION_resize_height, XCEPTION_resize_width)(frame_inputs)\n",
    "# preprocessed_inputs = tf.keras.applications.xception.preprocess_input(preprocessed_inputs)\n",
    "preprocessed_inputs = tf.keras.applications.xception.preprocess_input(frame_inputs)\n",
    "xception_model = tf.keras.applications.Xception(weights='imagenet', input_shape=preprocessed_inputs.shape[1:], include_top=False, pooling='avg')\n",
    "xception_model.trainable = False\n",
    "xception_features = xception_model(preprocessed_inputs, training=False)\n",
    "preprocess_and_xception = tf.keras.Model(inputs=frame_inputs, outputs=xception_features, name=\"preprocess_and_xception\")\n",
    "\n",
    "# tf.keras.utils.plot_model(preprocess_and_xception, \"preprocess_and_xception.png\", show_shapes=True)"
   ],
   "metadata": {
    "collapsed": false,
    "ExecuteTime": {
     "end_time": "2024-02-05T02:46:22.719511900Z",
     "start_time": "2024-02-05T02:46:21.262075700Z"
    }
   },
   "id": "b1c2534f0a817daa",
   "execution_count": 14
  },
  {
   "cell_type": "code",
   "outputs": [
    {
     "data": {
      "image/png": "[encoded data removed]",
      "text/plain": "<IPython.core.display.Image object>"
     },
     "execution_count": 24,
     "metadata": {},
     "output_type": "execute_result"
    }
   ],
   "source": [
    "# class XceptionOnTimeSteps(tf.keras.layers.Layer):\n",
    "#   def __init__(self, input_shape):\n",
    "#       super(XceptionOnTimeSteps, self).__init__()\n",
    "#       assert len(input_shape) == 4\n",
    "#       assert input_shape[-1] == 3\n",
    "#       self.trainable=False\n",
    "#       self.preprocess_and_xception = preprocess_and_xception\n",
    "#       # xception_features_shape is expected to be 0-rank and equal to 2048\n",
    "#       self.xception_features_shape = self.preprocess_and_xception.outputs[0].shape[-1]\n",
    "# \n",
    "#   def call(self, inputs):\n",
    "#       # todo delete this later\n",
    "#       print(f\"log in XceptionOnTimeSteps. input shape on call: {inputs.shape}\")\n",
    "#       \n",
    "#       self.total.assign_add(tf.reduce_sum(inputs, axis=0))\n",
    "#       return self.total\n",
    "\n",
    "from keras.layers import TimeDistributed, LSTM, Dense, Dropout\n",
    "\n",
    "def build_mobilenet(shape, nbout=3):\n",
    "    preprocessed_inputs1 = tf.keras.applications.xception.preprocess_input\n",
    "    model1=tf.keras.applications.Xception(weights='imagenet', input_shape=shape, include_top=False, pooling='avg')\n",
    "    model1.trainable = False\n",
    "    return model1\n",
    "    # return keras.Sequential([preprocessed_inputs1, model1])\n",
    "\n",
    "def action_model(shape=(9, None, None, 3), nbout=3):\n",
    "    convnet = build_mobilenet(shape[1:])\n",
    "    \n",
    "    # then create our final model\n",
    "    model = keras.Sequential()\n",
    "    model.add(TimeDistributed(convnet, input_shape=shape))\n",
    "    # here, you can also use GRU or LSTM\n",
    "    model.add(LSTM(64))\n",
    "    # and finally, we make a decision network\n",
    "    model.add(Dense(512, activation='relu'))\n",
    "    model.add(Dropout(.5))\n",
    "    model.add(Dense(64, activation='relu'))\n",
    "    model.add(Dense(nbout, activation='softmax'))\n",
    "    return model\n",
    "\n",
    "\n",
    "model = action_model()\n",
    "\n",
    "tf.keras.utils.plot_model(model, \"test lstm.png\", show_shapes=True)"
   ],
   "metadata": {
    "collapsed": false,
    "ExecuteTime": {
     "end_time": "2024-02-05T03:32:01.694625400Z",
     "start_time": "2024-02-05T03:31:59.943601600Z"
    }
   },
   "id": "367c8a4e6850c53",
   "execution_count": 24
  },
  {
   "cell_type": "code",
   "outputs": [
    {
     "ename": "NotImplementedError",
     "evalue": "Exception encountered when calling layer \"time_distributed_2\" (type TimeDistributed).\n\nPlease run in eager mode or implement the `compute_output_shape` method on your layer (TFOpLambda).\n\nCall arguments received by layer \"time_distributed_2\" (type TimeDistributed):\n  • inputs=tf.Tensor(shape=(None, 9, 71, 71, 3), dtype=float32)\n  • training=False\n  • mask=None",
     "output_type": "error",
     "traceback": [
      "\u001B[1;31m---------------------------------------------------------------------------\u001B[0m",
      "\u001B[1;31mNotImplementedError\u001B[0m                       Traceback (most recent call last)",
      "Cell \u001B[1;32mIn[15], line 15\u001B[0m\n\u001B[0;32m      5\u001B[0m \u001B[38;5;66;03m# xception_features_shape is expected to be 0-rank and equal to 2048\u001B[39;00m\n\u001B[0;32m      6\u001B[0m \u001B[38;5;66;03m# xception_features_shape = preprocess_and_xception.outputs[0].shape[-1]\u001B[39;00m\n\u001B[0;32m      7\u001B[0m \u001B[38;5;66;03m# \u001B[39;00m\n\u001B[1;32m   (...)\u001B[0m\n\u001B[0;32m     12\u001B[0m \u001B[38;5;66;03m# individual_tracklet_xception_features=individual_tracklet_xception_features(individual_tracklet_inputs)\u001B[39;00m\n\u001B[0;32m     13\u001B[0m \u001B[38;5;66;03m# TimeDistributed does not work in tf=2.10; used lambda layer instead; https://stackoverflow.com/questions/59970196/timedistributed-of-a-keraslayer-in-tensorflow-2-0\u001B[39;00m\n\u001B[0;32m     14\u001B[0m individual_tracklet_xception_features \u001B[38;5;241m=\u001B[39m keras\u001B[38;5;241m.\u001B[39mlayers\u001B[38;5;241m.\u001B[39mTimeDistributed(preprocess_and_xception)\n\u001B[1;32m---> 15\u001B[0m individual_tracklet_xception_features \u001B[38;5;241m=\u001B[39m \u001B[43mindividual_tracklet_xception_features\u001B[49m\u001B[43m(\u001B[49m\u001B[43mindividual_tracklet_inputs\u001B[49m\u001B[43m)\u001B[49m\n\u001B[0;32m     18\u001B[0m x \u001B[38;5;241m=\u001B[39m tf\u001B[38;5;241m.\u001B[39mkeras\u001B[38;5;241m.\u001B[39mlayers\u001B[38;5;241m.\u001B[39mLSTM(\u001B[38;5;241m3000\u001B[39m)(individual_tracklet_xception_features)\n\u001B[0;32m     19\u001B[0m \u001B[38;5;66;03m# todo change categorical conversoin to to without oov\u001B[39;00m\n",
      "File \u001B[1;32m~\\miniconda3\\envs\\SIV-hierarchical-LSTM\\lib\\site-packages\\keras\\utils\\traceback_utils.py:70\u001B[0m, in \u001B[0;36mfilter_traceback.<locals>.error_handler\u001B[1;34m(*args, **kwargs)\u001B[0m\n\u001B[0;32m     67\u001B[0m     filtered_tb \u001B[38;5;241m=\u001B[39m _process_traceback_frames(e\u001B[38;5;241m.\u001B[39m__traceback__)\n\u001B[0;32m     68\u001B[0m     \u001B[38;5;66;03m# To get the full stack trace, call:\u001B[39;00m\n\u001B[0;32m     69\u001B[0m     \u001B[38;5;66;03m# `tf.debugging.disable_traceback_filtering()`\u001B[39;00m\n\u001B[1;32m---> 70\u001B[0m     \u001B[38;5;28;01mraise\u001B[39;00m e\u001B[38;5;241m.\u001B[39mwith_traceback(filtered_tb) \u001B[38;5;28;01mfrom\u001B[39;00m \u001B[38;5;28;01mNone\u001B[39;00m\n\u001B[0;32m     71\u001B[0m \u001B[38;5;28;01mfinally\u001B[39;00m:\n\u001B[0;32m     72\u001B[0m     \u001B[38;5;28;01mdel\u001B[39;00m filtered_tb\n",
      "File \u001B[1;32m~\\miniconda3\\envs\\SIV-hierarchical-LSTM\\lib\\site-packages\\keras\\engine\\base_layer.py:879\u001B[0m, in \u001B[0;36mLayer.compute_output_shape\u001B[1;34m(self, input_shape)\u001B[0m\n\u001B[0;32m    872\u001B[0m             \u001B[38;5;28;01mraise\u001B[39;00m \u001B[38;5;167;01mNotImplementedError\u001B[39;00m(\n\u001B[0;32m    873\u001B[0m                 \u001B[38;5;124m\"\u001B[39m\u001B[38;5;124mWe could not automatically infer the static shape of \u001B[39m\u001B[38;5;124m\"\u001B[39m\n\u001B[0;32m    874\u001B[0m                 \u001B[38;5;124m\"\u001B[39m\u001B[38;5;124mthe layer\u001B[39m\u001B[38;5;124m'\u001B[39m\u001B[38;5;124ms output. Please implement the \u001B[39m\u001B[38;5;124m\"\u001B[39m\n\u001B[0;32m    875\u001B[0m                 \u001B[38;5;124m\"\u001B[39m\u001B[38;5;124m`compute_output_shape` method on your layer (\u001B[39m\u001B[38;5;132;01m%s\u001B[39;00m\u001B[38;5;124m).\u001B[39m\u001B[38;5;124m\"\u001B[39m\n\u001B[0;32m    876\u001B[0m                 \u001B[38;5;241m%\u001B[39m \u001B[38;5;28mself\u001B[39m\u001B[38;5;241m.\u001B[39m\u001B[38;5;18m__class__\u001B[39m\u001B[38;5;241m.\u001B[39m\u001B[38;5;18m__name__\u001B[39m\n\u001B[0;32m    877\u001B[0m             ) \u001B[38;5;28;01mfrom\u001B[39;00m \u001B[38;5;21;01me\u001B[39;00m\n\u001B[0;32m    878\u001B[0m     \u001B[38;5;28;01mreturn\u001B[39;00m tf\u001B[38;5;241m.\u001B[39mnest\u001B[38;5;241m.\u001B[39mmap_structure(\u001B[38;5;28;01mlambda\u001B[39;00m t: t\u001B[38;5;241m.\u001B[39mshape, outputs)\n\u001B[1;32m--> 879\u001B[0m \u001B[38;5;28;01mraise\u001B[39;00m \u001B[38;5;167;01mNotImplementedError\u001B[39;00m(\n\u001B[0;32m    880\u001B[0m     \u001B[38;5;124m\"\u001B[39m\u001B[38;5;124mPlease run in eager mode or implement the `compute_output_shape` \u001B[39m\u001B[38;5;124m\"\u001B[39m\n\u001B[0;32m    881\u001B[0m     \u001B[38;5;124m\"\u001B[39m\u001B[38;5;124mmethod on your layer (\u001B[39m\u001B[38;5;132;01m%s\u001B[39;00m\u001B[38;5;124m).\u001B[39m\u001B[38;5;124m\"\u001B[39m \u001B[38;5;241m%\u001B[39m \u001B[38;5;28mself\u001B[39m\u001B[38;5;241m.\u001B[39m\u001B[38;5;18m__class__\u001B[39m\u001B[38;5;241m.\u001B[39m\u001B[38;5;18m__name__\u001B[39m\n\u001B[0;32m    882\u001B[0m )\n",
      "\u001B[1;31mNotImplementedError\u001B[0m: Exception encountered when calling layer \"time_distributed_2\" (type TimeDistributed).\n\nPlease run in eager mode or implement the `compute_output_shape` method on your layer (TFOpLambda).\n\nCall arguments received by layer \"time_distributed_2\" (type TimeDistributed):\n  • inputs=tf.Tensor(shape=(None, 9, 71, 71, 3), dtype=float32)\n  • training=False\n  • mask=None"
     ]
    }
   ],
   "source": [
    "import keras\n",
    "\n",
    "# individual_tracklet_inputs = tf.keras.Input(shape=(TRAIN_TIME_STEPS, None, None, 3))\n",
    "individual_tracklet_inputs = tf.keras.Input(shape=(TRAIN_TIME_STEPS, 71, 71, 3))\n",
    "# xception_features_shape is expected to be 0-rank and equal to 2048\n",
    "# xception_features_shape = preprocess_and_xception.outputs[0].shape[-1]\n",
    "# \n",
    "# individual_tracklet_xception_features = tf.keras.layers.Lambda(\n",
    "#     lambda x: tf.reshape(preprocess_and_xception(tf.reshape(x, [-1, 71, 71, 3])),\n",
    "#                          [-1, TRAIN_TIME_STEPS, xception_features_shape]),\n",
    "#     input_shape=individual_tracklet_inputs.shape[1:])\n",
    "# individual_tracklet_xception_features=individual_tracklet_xception_features(individual_tracklet_inputs)\n",
    "# TimeDistributed does not work in tf=2.10; used lambda layer instead; https://stackoverflow.com/questions/59970196/timedistributed-of-a-keraslayer-in-tensorflow-2-0\n",
    "individual_tracklet_xception_features = keras.layers.TimeDistributed(preprocess_and_xception, input_shape=individual_tracklet_inputs[1:])\n",
    "individual_tracklet_xception_features = individual_tracklet_xception_features(individual_tracklet_inputs)\n",
    "\n",
    "\n",
    "x = tf.keras.layers.LSTM(3000)(individual_tracklet_xception_features)\n",
    "# todo change categorical conversoin to to without oov\n",
    "individual_activity_softmax = tf.keras.layers.Dense(9, activation='softmax')(x)\n",
    "\n",
    "individual_lstm_model = tf.keras.Model(inputs=individual_tracklet_inputs, outputs=individual_activity_softmax, name=\"individual_lstm_model\")\n",
    "\n",
    "# todo decide: what frame to choose from xception_features for frame level aggregate feature? all/main frame\n",
    "person_representation = tf.keras.layers.Concatenate()([xception_features, individual_lstm_model.outputs])\n",
    "# # pooling of all persons or persons of one group\n",
    "# # TODO data_format channels first or last?\n",
    "# # TODO what pooling layer to use? https://keras.io/api/layers/pooling_layers/\n",
    "# group_pool_layer = tf.keras.layers.AveragePooling1D(pool_size=, strides=, padding=\"valid\", data_format=None,\n",
    "#                                                     name=\"group_pool_layer\")(person_representation)\n",
    "# # aggregate into fc layer then fed into 2nd lstm\n",
    "# x = tf.keras.layers.Dense(3000)(group_pool_layer)\n",
    "# # todo how to define 9 timesteps here?\n",
    "# x = tf.keras.layers.LSTM(500)(x)\n",
    "# group_activity_softmax = tf.keras.layers.Dense(8, activation='softmax')(x)\n",
    "# \n",
    "# # todo have i choosed model input correctly?\n",
    "# group_lstm_model = tf.keras.Model(inputs=x, outputs=group_activity_softmax, name=\"group_lstm_model\")\n",
    "# \n",
    "# hierarchical_lstm_model = tf.keras.Model(inputs=individual_tracklet_inputs, outputs=group_lstm_model.outputs,\n",
    "#                                          name=\"hierarchical_lstm_model\")\n",
    "# tf.keras.utils.plot_model(hierarchical_lstm_model, \"hierarchical lstm.png\", show_shapes=True)\n",
    "# \n",
    "# # TODO maybe fine tune xception\n",
    "# # todo specify learning rate 0.00001 and momentum 0.9\n",
    "# # maybe this # we use SGD with a low learning rate from keras.optimizers import SGD model.compile(optimizer=SGD(lr=0.0001, momentum=0.9)\n",
    "# optimizer = keras.optimizers.Adam(0.001)\n",
    "# model.compile(\n",
    "#     optimizer,\n",
    "#     'categorical_crossentropy',\n",
    "#     metrics=['acc']\n",
    "# )\n",
    "# individual_lstm_model.compile(tbd)\n",
    "# # can use validation_split here\n",
    "# individual_lstm_model.fit(tbd)\n",
    "# \n",
    "# group_lstm_model.compile(tbd)\n",
    "# group_lstm_model.fit(tbd)"
   ],
   "metadata": {
    "collapsed": false,
    "ExecuteTime": {
     "end_time": "2024-02-05T02:46:29.176897800Z",
     "start_time": "2024-02-05T02:46:28.949736500Z"
    }
   },
   "id": "39e8b273abed4162",
   "execution_count": 15
  },
  {
   "cell_type": "code",
   "outputs": [],
   "source": [
    "# todo test\n",
    "# copy for reading test data later, optional delete train data from memory"
   ],
   "metadata": {
    "collapsed": false
   },
   "id": "5541c1acb462447e"
  }
 ],
 "metadata": {
  "kernelspec": {
   "display_name": "Python 3",
   "language": "python",
   "name": "python3"
  },
  "language_info": {
   "codemirror_mode": {
    "name": "ipython",
    "version": 2
   },
   "file_extension": ".py",
   "mimetype": "text/x-python",
   "name": "python",
   "nbconvert_exporter": "python",
   "pygments_lexer": "ipython2",
   "version": "2.7.6"
  }
 },
 "nbformat": 4,
 "nbformat_minor": 5
}
